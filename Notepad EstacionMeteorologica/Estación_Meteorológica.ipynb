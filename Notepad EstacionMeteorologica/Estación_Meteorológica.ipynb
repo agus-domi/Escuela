{
  "nbformat": 4,
  "nbformat_minor": 0,
  "metadata": {
    "colab": {
      "provenance": []
    },
    "kernelspec": {
      "name": "python3",
      "display_name": "Python 3"
    },
    "language_info": {
      "name": "python"
    }
  },
  "cells": [
    {
      "cell_type": "markdown",
      "source": [
        "# Entrada de datos climáticos 🌡️\n",
        "Se declaran las variables temperatura, humedad y viento, con valores ingresados por el usuario. Se utiliza un **while** para verificar que la humedad sea un valor de 0 a 100, si no lo es, vuelve a pedir el valor al usuario.\n"
      ],
      "metadata": {
        "id": "xp2Ku9yPq0je"
      }
    },
    {
      "cell_type": "code",
      "execution_count": null,
      "metadata": {
        "id": "4cg_iyc0wpW7"
      },
      "outputs": [],
      "source": [
        "temperatura=int(input(\"Ingrese la temperatura en °C: \"))\n",
        "humedad=int(input(\"Ingrese el porcentaje de humedad: \"))\n",
        "while humedad<0 or humedad>100:\n",
        "    print(\"El porcentaje de humedad debe estar entre 0 y 100\")\n",
        "    humedad=int(input(\"Ingrese nuevamente el porcentaje de humedad: \"))\n",
        "viento=int(input(\"Ingrese la velocidad del viento: \"))"
      ]
    },
    {
      "cell_type": "markdown",
      "source": [
        "# Evaluación del clima y consejos 🌤️\n",
        "Se inicializan tres variables **booleanas** relacionadas a la temperatura en **False** y luego, si la temperatura es menor a 0°C, se establece frioe en **True**, si la temperatura es mayor a 25°C, se establece calor en **True**, sino la temperatura no será ni frioe ni calor, por lo tanto se establece templado en **True**.\n",
        "\n",
        "Si frioe es **True**, se recomienda usar ropa abrigada y evitar exposición prolongada. Si calor es **True** y la humedad es **mayor a 60%**, se advierte sobre el riesgo de calor húmedo y se recomienda mantenerse hidratado. Si la velocidad del viento es **mayor a 45**, se sugiere mantener ventanas cerradas y evitar usar bicicleta."
      ],
      "metadata": {
        "id": "lGPv6dH-rykH"
      }
    },
    {
      "cell_type": "code",
      "source": [
        "frioe=False\n",
        "templado=False\n",
        "calor=False #Indico si hace o no frio, calor o esta templado\n",
        "if temperatura<0:\n",
        "    frioe=True\n",
        "elif temperatura>25:\n",
        "    calor=True\n",
        "else:\n",
        "    templado=True\n",
        "if frioe:\n",
        "    print(\"Usar ropa abrigada y evitar exposición prolongada.\")\n",
        "if calor and humedad>60:\n",
        "    print(\"Riesgo de calor húmedo, mantenerse hidratado.\")\n",
        "if viento>45:\n",
        "    print(\"Mantener ventanas cerradas, evitar usar bicicleta.\") #Evaluo cada variable y segun los datos damos los consejos"
      ],
      "metadata": {
        "id": "FyUlQoTIryzP"
      },
      "execution_count": null,
      "outputs": []
    },
    {
      "cell_type": "markdown",
      "source": [
        "# Verificación de presión atmosférica y alerta de tormenta ⛈️\n",
        "Se solicita la presión atmosférica al usuario hasta 4 veces y calcula el promedio de la presión y la presión máxima registrada. Si las condiciones de humedad son mayores al 80% y la presión es menor a 1000 hPa, el programa emite una alerta de tormenta.\n",
        "\n",
        "El bucle **while** se ejecuta mientras la humedad sea menor al 80% o la presión sea mayor a 1000 hPa, y no se haya ingresado más de 4 valores de presión. Para que el bucle se ejecute al menos una vez se inicializa la variable presión con un valor mayor a 1000.\n",
        "\n",
        "Se acumulan las presiones ingresadas en la variable presionsuma para calcular el promedio. Si la presión registrada es mayor que la anterior, se actualiza la presión máxima (presionmax). Si la humedad es mayor al 80% y la presión es menor a 1000 hPa, el programa muestra una alerta de tormenta."
      ],
      "metadata": {
        "id": "mCkIQkQbwVzu"
      }
    },
    {
      "cell_type": "code",
      "source": [
        "presion=1001\n",
        "presionsuma=0\n",
        "presionmax=0\n",
        "i=1\n",
        "lista=[\"mañana\",\"siesta\",\"tarde\",\"noche\"]\n",
        "while((humedad<80 or presion>1000) and i<5):\n",
        "    presion=int(input(f\"Ingrese la presion de la {lista[i-1]}: \"))\n",
        "    presionsuma+=presion #Sumamos cada presion ingresada para luego obtener el promedio\n",
        "    if presion>presionmax:\n",
        "        presionmax=presion #Evaluamos las presiones maximas\n",
        "    if humedad>80 and presion<1000:\n",
        "        print(\"¡¡Alerta de Tormenta!!\")\n",
        "        print(f\"La presion promedio es de {presionsuma/i} hPa y la presion maxima fue de {presionmax} hPa\") #Si se genera alerta de tormenta sale del bucle e imprime los datos\n",
        "    elif i==4:\n",
        "        print(f\"La presion promedio es de {presionsuma/i} hPa y la presion maxima fue de {presionmax} hPa\") #Si ya se ingresaron las 4 presiones muestra los datos\n",
        "    i+=1"
      ],
      "metadata": {
        "id": "yWxNTax6wWvu"
      },
      "execution_count": null,
      "outputs": []
    },
    {
      "cell_type": "markdown",
      "source": [
        "# Cálculo de consumo eléctrico y evaluación de paneles solares ⚡\n",
        "Se solicita el consumo eléctrico semanal durante 4 semanas. Se calcula el consumo mensual total en horas (horasmensu). Luego, se transforma en consumo mensual en kWh multiplicando por 0.5 (suponiendo 0.5 kWh por hora de uso).\n",
        "\n",
        "Se piden datos sobre los paneles: su tamaño, la cantidad y su eficiencia. Se valida que la eficiencia esté entre 0 y 100%.\n",
        "\n",
        "Despues de ingresar todos los datos se calcula la producción mensual de los paneles usando la fórmula: **producción = superficie_total * (eficiencia / 100) * 31**\n",
        "\n",
        "Si la producción de los paneles es mayor que el consumo mensual, se recomienda su uso, sino no se recomienda el uso de paneles solares."
      ],
      "metadata": {
        "id": "MdFI3bnnEVNE"
      }
    },
    {
      "cell_type": "code",
      "source": [
        "horasmensu=0\n",
        "for i in range(4):\n",
        "    hora=int(input(f\"Ingrese el consumo por semana de la semana {i+1}: \"))\n",
        "    horasmensu+=hora #Se calculan las horas mensuales\n",
        "kwhm=horasmensu*0.5 #Se calculan los kwh por mes\n",
        "tamaño=float(input(\"Ingrese el tamaño de los paneles: \"))\n",
        "cantidad=int(input(\"Ingrese la cantidad de paneles: \"))\n",
        "superficie_total=tamaño*cantidad\n",
        "eficiencia=int(input(\"Ingrese la eficiencia de los paneles: \"))\n",
        "while eficiencia<0 or eficiencia>100:\n",
        "    print(\"El porcentaje de eficiencia debe estar entre 0 y 100\")\n",
        "    eficiencia=int(input(\"Ingrese nuevamente el porcentaje de eficiencia: \"))\n",
        "produccion = superficie_total * (eficiencia /100) * 31 #Con esta formula se calcula la energia total en kwh de los paneles\n",
        "if produccion>kwhm:\n",
        "    print(\"Se recomienda el uso de paneles solares\") #Si los paneles generan mas energia de la que se gasta por mes se lo recomienda al usuario\n",
        "else:\n",
        "    print(\"No se recomienda el uso de paneles\")"
      ],
      "metadata": {
        "id": "Rgvph_FSEXFy"
      },
      "execution_count": null,
      "outputs": []
    }
  ]
}