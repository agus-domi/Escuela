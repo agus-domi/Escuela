{
 "cells": [
  {
   "cell_type": "markdown",
   "id": "7d9e4e7e",
   "metadata": {},
   "source": [
    "# **Trabajo Práctico N°2 Chequeo de Compatibilidad💘 - Agus Dominguez**\n",
    "Este programa calcula un porcentaje de compatibilidad entre dos nombres usando un algoritmo matemático. Perfecto para aprender sobre:\n",
    "- Manejo de strings y listas\n",
    "- Bucles y condicionales\n",
    "- Funciones personalizadas\n",
    "- Operaciones matemáticas básicas"
   ]
  },
  {
   "cell_type": "markdown",
   "id": "a84ebe45",
   "metadata": {},
   "source": [
    "# Entrada de datos (Nombres) 💑\n",
    "Se declaran las variables nombre1 y nombre2, con valores ingresados por el usuario. Combina las letras de ambos nombres en una lista. Se utiliza un **if** para colocar el nombre mas largo primero. Convierte todas las letras a minúsculas para que no haya confusión."
   ]
  },
  {
   "cell_type": "code",
   "execution_count": 1,
   "id": "8ae39f6a",
   "metadata": {},
   "outputs": [],
   "source": [
    "nombre1 = input(\"Ingrese el nombre de la primera persona: \")\n",
    "nombre2 = input(\"Ingrese el nombre de la segunda persona: \")\n",
    "letras = []\n",
    "if len(nombre1) > len(nombre2):\n",
    "    letras = list(nombre1.lower()) + list(nombre2.lower())\n",
    "else:\n",
    "    letras = list(nombre2.lower()) + list(nombre1.lower())"
   ]
  },
  {
   "cell_type": "markdown",
   "id": "ef35456b",
   "metadata": {},
   "source": [
    "# Conteo de letras Unicas 🔡\n",
    "Se recorre la lista de letras y se cuentan solo las letras únicas, evitando repetir el conteo.\n",
    "El resultado es una lista de números que representan la frecuencia de cada letra."
   ]
  },
  {
   "cell_type": "code",
   "execution_count": 2,
   "id": "bc24f6ea",
   "metadata": {},
   "outputs": [],
   "source": [
    "cant_letras = []\n",
    "usadas = []\n",
    "for letra in letras:\n",
    "    if letra not in usadas:\n",
    "        cant_letras.append(letras.count(letra))\n",
    "        usadas.append(letra)"
   ]
  },
  {
   "cell_type": "markdown",
   "id": "5720dd0d",
   "metadata": {},
   "source": [
    "# Función de Compatibilidad(Reducir la lista de números) 🔢\n",
    "Esta función toma una lista de números y los reduce sumando el primero con el último, el segundo con el penúltimo, y así sucesivamente.\n",
    "El proceso se repite hasta que la lista tenga solo dos elementos."
   ]
  },
  {
   "cell_type": "code",
   "execution_count": 3,
   "id": "74c89d2f",
   "metadata": {},
   "outputs": [],
   "source": [
    "def compatibilidad(numeros):\n",
    "    mitad = len(numeros) // 2 - 1\n",
    "    if len(numeros) % 2 == 0:\n",
    "        i = 0\n",
    "        while i <= mitad:\n",
    "            numeros [i] = numeros[i] + numeros[-(i + 1)]\n",
    "            i += 1\n",
    "    else:\n",
    "        i = 0\n",
    "        while i < mitad + 1:\n",
    "            numeros[i] = numeros[i] + numeros[-(i + 1)]\n",
    "            i += 1\n",
    "    return numeros[:mitad + 1] if len(numeros) % 2 == 0 else numeros[:mitad + 2]"
   ]
  },
  {
   "cell_type": "markdown",
   "id": "af7d9131",
   "metadata": {},
   "source": [
    "# Proceso de reducción 📉\n",
    "Se repite el proceso de reducción tantas veces como sea necesario hasta que solo quedan dos números, que servirán para calcular el porcentaje. Si alguno de los numeros es de dos cifras (mayor o igual a 10) se divide en digitos y se sige el proceso de reducción."
   ]
  },
  {
   "cell_type": "markdown",
   "id": "ee0d0942",
   "metadata": {},
   "source": [
    "### Resolución de Problema\n",
    "Al probar con distintos nombres me encontre con un caso en el que el resultado era mayor a 100 (104). El problema era que el primer elemento de la lista, el primer digito del numero de compatibilidad era 10 (5+5) al multiplicarlo por 10 devolvia 100 y sumaba el segundo elemento de la lista (4) y devolvia 104. Para resolver este problema, dividi el primer elemento entre 10, para separar los digitos, Obteniendo asi la lista con solo numeros menores a 10."
   ]
  },
  {
   "cell_type": "code",
   "execution_count": 4,
   "id": "f55877b4",
   "metadata": {},
   "outputs": [],
   "source": [
    "while len(cant_letras) > 2:\n",
    "    cant_letras = compatibilidad(cant_letras)\n",
    "    if len(cant_letras) == 2 and cant_letras[0] >= 10:\n",
    "        cant_letras.append(cant_letras[1])\n",
    "        cant_letras[1] = cant_letras[0] % 10\n",
    "        cant_letras[0] = cant_letras[0] // 10\n",
    "    elif len(cant_letras) == 2 and cant_letras[1] >= 10:\n",
    "        cant_letras.append(cant_letras[1] % 10)\n",
    "        cant_letras[1] = cant_letras[1] // 10"
   ]
  },
  {
   "cell_type": "markdown",
   "id": "56ff2791",
   "metadata": {},
   "source": [
    "# Resultado final ✅\n",
    "Se calcula el porcentaje multiplicando el primer número por 10 y sumándole el segundo, dando un resultado de dos cifras."
   ]
  },
  {
   "cell_type": "code",
   "execution_count": 5,
   "id": "06e8a4db",
   "metadata": {},
   "outputs": [
    {
     "name": "stdout",
     "output_type": "stream",
     "text": [
      "La compatibilidad entre Priscila y Emilio es de 50%\n"
     ]
    }
   ],
   "source": [
    "compatibilidad_final = cant_letras[0] * 10 + cant_letras[1]\n",
    "print(f\"La compatibilidad entre {nombre1} y {nombre2} es de {compatibilidad_final}%\")"
   ]
  }
 ],
 "metadata": {
  "kernelspec": {
   "display_name": "Python 3",
   "language": "python",
   "name": "python3"
  },
  "language_info": {
   "codemirror_mode": {
    "name": "ipython",
    "version": 3
   },
   "file_extension": ".py",
   "mimetype": "text/x-python",
   "name": "python",
   "nbconvert_exporter": "python",
   "pygments_lexer": "ipython3",
   "version": "3.13.1"
  }
 },
 "nbformat": 4,
 "nbformat_minor": 5
}
